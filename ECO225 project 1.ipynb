{
 "cells": [
  {
   "cell_type": "markdown",
   "id": "e35bddaa",
   "metadata": {},
   "source": [
    "# How does follower count, retweets, and state of origin influence overall engagement?(number of likes)\n"
   ]
  },
  {
   "cell_type": "markdown",
   "id": "9987705d",
   "metadata": {},
   "source": [
    "## Introduction"
   ]
  },
  {
   "cell_type": "markdown",
   "id": "313a7c36",
   "metadata": {},
   "source": [
    "## Data Cleaning"
   ]
  },
  {
   "cell_type": "code",
   "execution_count": 40,
   "id": "f274c10b",
   "metadata": {},
   "outputs": [],
   "source": [
    "import pandas as pd\n",
    "import numpy as np  \n",
    "import matplotlib.pyplot as plt\n",
    "from datetime import datetime\n",
    "import seaborn as sns"
   ]
  },
  {
   "cell_type": "code",
   "execution_count": 3,
   "id": "7830b8a8",
   "metadata": {},
   "outputs": [],
   "source": [
    "df = pd.read_csv('hashtag_donaldtrump.csv', lineterminator='\\n')"
   ]
  },
  {
   "cell_type": "code",
   "execution_count": null,
   "id": "90bcd4a0",
   "metadata": {},
   "outputs": [],
   "source": []
  },
  {
   "cell_type": "code",
   "execution_count": 4,
   "id": "d8e0e311",
   "metadata": {},
   "outputs": [
    {
     "data": {
      "text/html": [
       "<div>\n",
       "<style scoped>\n",
       "    .dataframe tbody tr th:only-of-type {\n",
       "        vertical-align: middle;\n",
       "    }\n",
       "\n",
       "    .dataframe tbody tr th {\n",
       "        vertical-align: top;\n",
       "    }\n",
       "\n",
       "    .dataframe thead th {\n",
       "        text-align: right;\n",
       "    }\n",
       "</style>\n",
       "<table border=\"1\" class=\"dataframe\">\n",
       "  <thead>\n",
       "    <tr style=\"text-align: right;\">\n",
       "      <th></th>\n",
       "      <th>created_at</th>\n",
       "      <th>tweet_id</th>\n",
       "      <th>tweet</th>\n",
       "      <th>likes</th>\n",
       "      <th>retweet_count</th>\n",
       "      <th>source</th>\n",
       "      <th>user_id</th>\n",
       "      <th>user_name</th>\n",
       "      <th>user_screen_name</th>\n",
       "      <th>user_description</th>\n",
       "      <th>...</th>\n",
       "      <th>user_followers_count</th>\n",
       "      <th>user_location</th>\n",
       "      <th>lat</th>\n",
       "      <th>long</th>\n",
       "      <th>city</th>\n",
       "      <th>country</th>\n",
       "      <th>continent</th>\n",
       "      <th>state</th>\n",
       "      <th>state_code</th>\n",
       "      <th>collected_at</th>\n",
       "    </tr>\n",
       "  </thead>\n",
       "  <tbody>\n",
       "    <tr>\n",
       "      <th>0</th>\n",
       "      <td>2020-10-15 00:00:01</td>\n",
       "      <td>1.316529e+18</td>\n",
       "      <td>#Elecciones2020 | En #Florida: #JoeBiden dice ...</td>\n",
       "      <td>0.0</td>\n",
       "      <td>0.0</td>\n",
       "      <td>TweetDeck</td>\n",
       "      <td>3.606665e+08</td>\n",
       "      <td>El Sol Latino News</td>\n",
       "      <td>elsollatinonews</td>\n",
       "      <td>🌐 Noticias de interés para latinos de la costa...</td>\n",
       "      <td>...</td>\n",
       "      <td>1860.0</td>\n",
       "      <td>Philadelphia, PA / Miami, FL</td>\n",
       "      <td>25.774270</td>\n",
       "      <td>-80.193660</td>\n",
       "      <td>NaN</td>\n",
       "      <td>United States of America</td>\n",
       "      <td>North America</td>\n",
       "      <td>Florida</td>\n",
       "      <td>FL</td>\n",
       "      <td>2020-10-21 00:00:00</td>\n",
       "    </tr>\n",
       "    <tr>\n",
       "      <th>1</th>\n",
       "      <td>2020-10-15 00:00:01</td>\n",
       "      <td>1.316529e+18</td>\n",
       "      <td>Usa 2020, Trump contro Facebook e Twitter: cop...</td>\n",
       "      <td>26.0</td>\n",
       "      <td>9.0</td>\n",
       "      <td>Social Mediaset</td>\n",
       "      <td>3.316176e+08</td>\n",
       "      <td>Tgcom24</td>\n",
       "      <td>MediasetTgcom24</td>\n",
       "      <td>Profilo ufficiale di Tgcom24: tutte le notizie...</td>\n",
       "      <td>...</td>\n",
       "      <td>1067661.0</td>\n",
       "      <td>NaN</td>\n",
       "      <td>NaN</td>\n",
       "      <td>NaN</td>\n",
       "      <td>NaN</td>\n",
       "      <td>NaN</td>\n",
       "      <td>NaN</td>\n",
       "      <td>NaN</td>\n",
       "      <td>NaN</td>\n",
       "      <td>2020-10-21 00:00:00.373216530</td>\n",
       "    </tr>\n",
       "    <tr>\n",
       "      <th>2</th>\n",
       "      <td>2020-10-15 00:00:02</td>\n",
       "      <td>1.316529e+18</td>\n",
       "      <td>#Trump: As a student I used to hear for years,...</td>\n",
       "      <td>2.0</td>\n",
       "      <td>1.0</td>\n",
       "      <td>Twitter Web App</td>\n",
       "      <td>8.436472e+06</td>\n",
       "      <td>snarke</td>\n",
       "      <td>snarke</td>\n",
       "      <td>Will mock for food! Freelance writer, blogger,...</td>\n",
       "      <td>...</td>\n",
       "      <td>1185.0</td>\n",
       "      <td>Portland</td>\n",
       "      <td>45.520247</td>\n",
       "      <td>-122.674195</td>\n",
       "      <td>Portland</td>\n",
       "      <td>United States of America</td>\n",
       "      <td>North America</td>\n",
       "      <td>Oregon</td>\n",
       "      <td>OR</td>\n",
       "      <td>2020-10-21 00:00:00.746433060</td>\n",
       "    </tr>\n",
       "    <tr>\n",
       "      <th>3</th>\n",
       "      <td>2020-10-15 00:00:02</td>\n",
       "      <td>1.316529e+18</td>\n",
       "      <td>2 hours since last tweet from #Trump! Maybe he...</td>\n",
       "      <td>0.0</td>\n",
       "      <td>0.0</td>\n",
       "      <td>Trumpytweeter</td>\n",
       "      <td>8.283556e+17</td>\n",
       "      <td>Trumpytweeter</td>\n",
       "      <td>trumpytweeter</td>\n",
       "      <td>If he doesn't tweet for some time, should we b...</td>\n",
       "      <td>...</td>\n",
       "      <td>32.0</td>\n",
       "      <td>NaN</td>\n",
       "      <td>NaN</td>\n",
       "      <td>NaN</td>\n",
       "      <td>NaN</td>\n",
       "      <td>NaN</td>\n",
       "      <td>NaN</td>\n",
       "      <td>NaN</td>\n",
       "      <td>NaN</td>\n",
       "      <td>2020-10-21 00:00:01.119649591</td>\n",
       "    </tr>\n",
       "    <tr>\n",
       "      <th>4</th>\n",
       "      <td>2020-10-15 00:00:08</td>\n",
       "      <td>1.316529e+18</td>\n",
       "      <td>You get a tie! And you get a tie! #Trump ‘s ra...</td>\n",
       "      <td>4.0</td>\n",
       "      <td>3.0</td>\n",
       "      <td>Twitter for iPhone</td>\n",
       "      <td>4.741380e+07</td>\n",
       "      <td>Rana Abtar - رنا أبتر</td>\n",
       "      <td>Ranaabtar</td>\n",
       "      <td>Washington Correspondent, Lebanese-American ,c...</td>\n",
       "      <td>...</td>\n",
       "      <td>5393.0</td>\n",
       "      <td>Washington DC</td>\n",
       "      <td>38.894992</td>\n",
       "      <td>-77.036558</td>\n",
       "      <td>Washington</td>\n",
       "      <td>United States of America</td>\n",
       "      <td>North America</td>\n",
       "      <td>District of Columbia</td>\n",
       "      <td>DC</td>\n",
       "      <td>2020-10-21 00:00:01.492866121</td>\n",
       "    </tr>\n",
       "  </tbody>\n",
       "</table>\n",
       "<p>5 rows × 21 columns</p>\n",
       "</div>"
      ],
      "text/plain": [
       "            created_at      tweet_id  \\\n",
       "0  2020-10-15 00:00:01  1.316529e+18   \n",
       "1  2020-10-15 00:00:01  1.316529e+18   \n",
       "2  2020-10-15 00:00:02  1.316529e+18   \n",
       "3  2020-10-15 00:00:02  1.316529e+18   \n",
       "4  2020-10-15 00:00:08  1.316529e+18   \n",
       "\n",
       "                                               tweet  likes  retweet_count  \\\n",
       "0  #Elecciones2020 | En #Florida: #JoeBiden dice ...    0.0            0.0   \n",
       "1  Usa 2020, Trump contro Facebook e Twitter: cop...   26.0            9.0   \n",
       "2  #Trump: As a student I used to hear for years,...    2.0            1.0   \n",
       "3  2 hours since last tweet from #Trump! Maybe he...    0.0            0.0   \n",
       "4  You get a tie! And you get a tie! #Trump ‘s ra...    4.0            3.0   \n",
       "\n",
       "               source       user_id              user_name user_screen_name  \\\n",
       "0           TweetDeck  3.606665e+08     El Sol Latino News  elsollatinonews   \n",
       "1    Social Mediaset   3.316176e+08                Tgcom24  MediasetTgcom24   \n",
       "2     Twitter Web App  8.436472e+06                 snarke           snarke   \n",
       "3       Trumpytweeter  8.283556e+17          Trumpytweeter    trumpytweeter   \n",
       "4  Twitter for iPhone  4.741380e+07  Rana Abtar - رنا أبتر        Ranaabtar   \n",
       "\n",
       "                                    user_description  ...  \\\n",
       "0  🌐 Noticias de interés para latinos de la costa...  ...   \n",
       "1  Profilo ufficiale di Tgcom24: tutte le notizie...  ...   \n",
       "2  Will mock for food! Freelance writer, blogger,...  ...   \n",
       "3  If he doesn't tweet for some time, should we b...  ...   \n",
       "4  Washington Correspondent, Lebanese-American ,c...  ...   \n",
       "\n",
       "  user_followers_count                 user_location        lat        long  \\\n",
       "0               1860.0  Philadelphia, PA / Miami, FL  25.774270  -80.193660   \n",
       "1            1067661.0                           NaN        NaN         NaN   \n",
       "2               1185.0                      Portland  45.520247 -122.674195   \n",
       "3                 32.0                           NaN        NaN         NaN   \n",
       "4               5393.0                 Washington DC  38.894992  -77.036558   \n",
       "\n",
       "         city                   country      continent                 state  \\\n",
       "0         NaN  United States of America  North America               Florida   \n",
       "1         NaN                       NaN            NaN                   NaN   \n",
       "2    Portland  United States of America  North America                Oregon   \n",
       "3         NaN                       NaN            NaN                   NaN   \n",
       "4  Washington  United States of America  North America  District of Columbia   \n",
       "\n",
       "  state_code                   collected_at  \n",
       "0         FL            2020-10-21 00:00:00  \n",
       "1        NaN  2020-10-21 00:00:00.373216530  \n",
       "2         OR  2020-10-21 00:00:00.746433060  \n",
       "3        NaN  2020-10-21 00:00:01.119649591  \n",
       "4         DC  2020-10-21 00:00:01.492866121  \n",
       "\n",
       "[5 rows x 21 columns]"
      ]
     },
     "execution_count": 4,
     "metadata": {},
     "output_type": "execute_result"
    }
   ],
   "source": [
    "df.head()"
   ]
  },
  {
   "cell_type": "code",
   "execution_count": 7,
   "id": "126d45c4",
   "metadata": {},
   "outputs": [
    {
     "data": {
      "text/plain": [
       "(97092, 21)"
      ]
     },
     "execution_count": 7,
     "metadata": {},
     "output_type": "execute_result"
    }
   ],
   "source": [
    "\n",
    "df_final = df.sample(frac = 0.10)\n",
    "df_final.shape"
   ]
  },
  {
   "cell_type": "code",
   "execution_count": 6,
   "id": "0216e7ab",
   "metadata": {},
   "outputs": [
    {
     "data": {
      "text/plain": [
       "created_at              False\n",
       "tweet_id                False\n",
       "tweet                   False\n",
       "likes                   False\n",
       "retweet_count           False\n",
       "source                   True\n",
       "user_id                 False\n",
       "user_name                True\n",
       "user_screen_name        False\n",
       "user_description         True\n",
       "user_join_date          False\n",
       "user_followers_count    False\n",
       "user_location            True\n",
       "lat                      True\n",
       "long                     True\n",
       "city                     True\n",
       "country                  True\n",
       "continent                True\n",
       "state                    True\n",
       "state_code               True\n",
       "collected_at            False\n",
       "dtype: bool"
      ]
     },
     "execution_count": 6,
     "metadata": {},
     "output_type": "execute_result"
    }
   ],
   "source": [
    "df_final.isnull().any(axis = 0)"
   ]
  },
  {
   "cell_type": "code",
   "execution_count": 5,
   "id": "c8717d64",
   "metadata": {},
   "outputs": [
    {
     "data": {
      "text/plain": [
       "0"
      ]
     },
     "execution_count": 5,
     "metadata": {},
     "output_type": "execute_result"
    }
   ],
   "source": [
    "df_final.duplicated().sum()"
   ]
  },
  {
   "cell_type": "code",
   "execution_count": 8,
   "id": "d90eb749",
   "metadata": {},
   "outputs": [
    {
     "data": {
      "text/plain": [
       "(18866, 21)"
      ]
     },
     "execution_count": 8,
     "metadata": {},
     "output_type": "execute_result"
    }
   ],
   "source": [
    "\n",
    "df_cleaned = df_final.dropna()\n",
    "df_cleaned.shape"
   ]
  },
  {
   "cell_type": "markdown",
   "id": "6aa3d9e3",
   "metadata": {},
   "source": [
    "## Summary statistics"
   ]
  },
  {
   "cell_type": "code",
   "execution_count": 41,
   "id": "44795305",
   "metadata": {},
   "outputs": [
    {
     "data": {
      "text/plain": [
       "count    18785.000000\n",
       "mean        11.177109\n",
       "std        191.985022\n",
       "min          0.000000\n",
       "25%          0.000000\n",
       "50%          0.000000\n",
       "75%          2.000000\n",
       "max      17009.000000\n",
       "Name: likes, dtype: float64"
      ]
     },
     "execution_count": 41,
     "metadata": {},
     "output_type": "execute_result"
    }
   ],
   "source": [
    "# y variable stats\n",
    "likes_summary = df_cleaned['likes'].describe()\n",
    "likes_summary"
   ]
  },
  {
   "cell_type": "markdown",
   "id": "8f3f0cf1",
   "metadata": {},
   "source": [
    "Interpretation of likes summary table:\n",
    "based on the interquartile range, 50% data points for number of likes are between 0-2. This is in stark contrast to the mean which is much higher at 11.177. The most striking is that the standard deviation is 191 which is more than 10 times bigger than the mean itself. Such a massive standard deviation given our mean and interquartile range implies the presence of extreme outliers, which are severely skewing the data. Based on our max value, it is clear that there is a massive right skew in our likes distribution. this is interesting as it implies that a very small number of posts produce a disproportionately high number of likes from a likes share point of view."
   ]
  },
  {
   "cell_type": "code",
   "execution_count": 45,
   "id": "8260557a",
   "metadata": {},
   "outputs": [
    {
     "data": {
      "text/plain": [
       "count    1.878500e+04\n",
       "mean     3.134652e+04\n",
       "std      2.581124e+05\n",
       "min      0.000000e+00\n",
       "25%      1.960000e+02\n",
       "50%      8.970000e+02\n",
       "75%      3.324000e+03\n",
       "max      1.320599e+07\n",
       "Name: user_followers_count, dtype: float64"
      ]
     },
     "execution_count": 45,
     "metadata": {},
     "output_type": "execute_result"
    }
   ],
   "source": [
    "#x1 variable (follower count)\n",
    "follower_summary = df_cleaned['user_followers_count'].describe()\n",
    "follower_summary"
   ]
  },
  {
   "cell_type": "markdown",
   "id": "3396a030",
   "metadata": {},
   "source": [
    "Interpretation of follower summary table\n",
    "the interquartile range suggests that 50% of all values fall within 196 to 3,324 followers. The mean follower count is 31,346 with the standard deviation being 258,112. This implies that like the previous summary, there are outliers that lead to a large standard deviation and mean, despite most values being within 196 and 3,324. Like before, there is a big right skew implying that there are a few accounts in the dataset that have a disproportionately high share of followers. "
   ]
  },
  {
   "cell_type": "code",
   "execution_count": 46,
   "id": "3a5cbdbb",
   "metadata": {},
   "outputs": [
    {
     "data": {
      "text/plain": [
       "count    18785.000000\n",
       "mean         2.683524\n",
       "std         52.618913\n",
       "min          0.000000\n",
       "25%          0.000000\n",
       "50%          0.000000\n",
       "75%          0.000000\n",
       "max       5135.000000\n",
       "Name: retweet_count, dtype: float64"
      ]
     },
     "execution_count": 46,
     "metadata": {},
     "output_type": "execute_result"
    }
   ],
   "source": [
    "#x2  variable (retweet count)\n",
    "retweet_summary = df_cleaned['retweet_count'].describe()\n",
    "retweet_summary"
   ]
  },
  {
   "cell_type": "markdown",
   "id": "737643b0",
   "metadata": {},
   "source": [
    "interpretation of retweet summary table\n",
    "Similar to our previous tables, we can see a clear case of an extreme right skew. 50% of all values are zero, but the mean retweet count is around 3 with a massive standard deviation of 52. The max number being 5135 provides an explanation for why the standard deviation is so high."
   ]
  },
  {
   "cell_type": "markdown",
   "id": "c0bf3409",
   "metadata": {},
   "source": [
    "To conclude from our summary statistics, It is clear that we have to look at the small number of highly influential data points as oppoed to the majority number of non-influential data points. We can also even out the skewed distributions using a log scale and make interpretations on that basis. "
   ]
  },
  {
   "cell_type": "markdown",
   "id": "ebb91486",
   "metadata": {},
   "source": [
    "# Plots, Histograms, Figures"
   ]
  },
  {
   "cell_type": "code",
   "execution_count": 10,
   "id": "6f425e91",
   "metadata": {},
   "outputs": [
    {
     "data": {
      "text/plain": [
       "(0.0, 3000000.0)"
      ]
     },
     "execution_count": 10,
     "metadata": {},
     "output_type": "execute_result"
    },
    {
     "data": {
      "image/png": "[encoded data removed]",
      "text/plain": [
       "<Figure size 640x480 with 1 Axes>"
      ]
     },
     "metadata": {},
     "output_type": "display_data"
    }
   ],
   "source": [
    "plt.hist(df_cleaned['user_followers_count'], bins = 20, edgecolor = 'black', color = 'skyblue')\n",
    "plt.xlim([0,3000000])"
   ]
  },
  {
   "cell_type": "markdown",
   "id": "9281a806",
   "metadata": {},
   "source": [
    "The following is the plot for follower count. As was clear in the summary tables, majority of followers range between 0 to 500,000. We considered two main options which was filtering out the no-influential data and keeping the outliers versus using a log scale to even out the distribution. Let us apply a log transformation on follower count and plot the corresponding histogram."
   ]
  },
  {
   "cell_type": "code",
   "execution_count": 44,
   "id": "859e503e",
   "metadata": {},
   "outputs": [
    {
     "data": {
      "text/plain": [
       "(0.0, 3000000.0)"
      ]
     },
     "execution_count": 44,
     "metadata": {},
     "output_type": "execute_result"
    },
    {
     "data": {
      "image/png": "[encoded data removed]",
      "text/plain": [
       "<Figure size 640x480 with 1 Axes>"
      ]
     },
     "metadata": {},
     "output_type": "display_data"
    }
   ],
   "source": [
    "#histogram of followers count\n",
    "plt.hist(df_cleaned['user_followers_count'],log = True, bins = 20, edgecolor = 'black', color = 'skyblue')\n",
    "plt.xlim([0,3000000])\n",
    "#if we used linear scale, there would be only one bar (follower count between 0 to 5 500,000 followers).\n",
    "# log scale spreads the distribution out\n"
   ]
  },
  {
   "cell_type": "markdown",
   "id": "d28b6f98",
   "metadata": {},
   "source": [
    "Use of log scale\n",
    "- when we are focused on measuring 'relative changes' we use the log scale. When we are focused on Absolute changes we use the linear scale\n",
    "eg: stock A goes from 1 to 1.10, stock B goes from 100 to 110. This implies a 10% increase for both parts(same relative change) but different absolute change(0.10 and 10). What a log scale does is convert the relative percent change into an absolute change\n",
    "for stock A: 0 to 0.413 \n",
    "for stock B: 2 to 2.413\n",
    "\n",
    "As we can see, the histogram does prove to be less skewed when we take log follower count. This is because the log function compresses larger values more than it does smaller values. Thus, the outliers to the right (very large values) are compressed such that the absolute change in log values between the small and large numbers are lesser. The relative percent difference in large and small numbers is represented still by absolute change in log values so that information is not lost. We can use the absolute changes, thus, to get an understanding of how percent change in follower count influences engagement (likes).\n"
   ]
  },
  {
   "cell_type": "code",
   "execution_count": 43,
   "id": "14534f39",
   "metadata": {},
   "outputs": [
    {
     "data": {
      "text/plain": [
       "(0.0, 10000.0)"
      ]
     },
     "execution_count": 43,
     "metadata": {},
     "output_type": "execute_result"
    },
    {
     "data": {
      "image/png": "[encoded data removed]",
      "text/plain": [
       "<Figure size 640x480 with 1 Axes>"
      ]
     },
     "metadata": {},
     "output_type": "display_data"
    }
   ],
   "source": [
    "#histogram of likes count\n",
    "plt.hist(df_cleaned['likes'],log= True, edgecolor = 'black', color = 'skyblue')\n",
    "plt.xlim([0,10000])\n",
    "#used log-scale again for similar purposes.\n"
   ]
  },
  {
   "cell_type": "markdown",
   "id": "1566949c",
   "metadata": {},
   "source": [
    "This is a histogram for the number of likes. Like before, a log scale has been applied to correct the skew and make analysis easier. "
   ]
  },
  {
   "cell_type": "code",
   "execution_count": 19,
   "id": "933a0310",
   "metadata": {},
   "outputs": [
    {
     "data": {
      "image/png": "[encoded data removed]",
      "text/plain": [
       "<Figure size 640x480 with 1 Axes>"
      ]
     },
     "metadata": {},
     "output_type": "display_data"
    }
   ],
   "source": [
    "plt.hist(df_cleaned['user_followers_count'],log = True, alpha = 0.5, edgecolor = 'black', color = 'orange', label = 'followers')\n",
    "plt.hist(df_cleaned['likes'],log= True, alpha = 0.5, edgecolor = 'black', color = 'red', label = 'likes')\n",
    "plt.show()"
   ]
  },
  {
   "cell_type": "code",
   "execution_count": 43,
   "id": "5e9947d6",
   "metadata": {},
   "outputs": [
    {
     "data": {
      "text/plain": [
       "state\n",
       "New York                1923\n",
       "California              1814\n",
       "England                 1612\n",
       "District of Columbia     960\n",
       "Ile-de-France            881\n",
       "Texas                    714\n",
       "Florida                  603\n",
       "Ontario                  562\n",
       "Illinois                 452\n",
       "Berlin                   433\n",
       "Name: count, dtype: int64"
      ]
     },
     "execution_count": 43,
     "metadata": {},
     "output_type": "execute_result"
    }
   ],
   "source": [
    "#limiting state values to top 10\n",
    "state_freq = df_cleaned['state'].value_counts()\n",
    "sorted_series = state_freq.sort_values(ascending = False)\n",
    "sorted_series.head(10)"
   ]
  },
  {
   "cell_type": "code",
   "execution_count": 44,
   "id": "73fa59c4",
   "metadata": {},
   "outputs": [
    {
     "data": {
      "text/plain": [
       "([0, 1, 2, 3, 4, 5, 6, 7, 8, 9],\n",
       " [Text(0, 0, 'New York'),\n",
       "  Text(1, 0, 'California'),\n",
       "  Text(2, 0, 'England'),\n",
       "  Text(3, 0, 'District of Columbia'),\n",
       "  Text(4, 0, 'Ile-de-France'),\n",
       "  Text(5, 0, 'Texas'),\n",
       "  Text(6, 0, 'Florida'),\n",
       "  Text(7, 0, 'Ontario'),\n",
       "  Text(8, 0, 'Illinois'),\n",
       "  Text(9, 0, 'Berlin')])"
      ]
     },
     "execution_count": 44,
     "metadata": {},
     "output_type": "execute_result"
    },
    {
     "data": {
      "image/png": "[encoded data removed]",
      "text/plain": [
       "<Figure size 640x480 with 1 Axes>"
      ]
     },
     "metadata": {},
     "output_type": "display_data"
    }
   ],
   "source": [
    "#barplot for state\n",
    "desired_values = ['New York','California','England','District of Columbia','Ile-de-France','Texas','Florida','Ontario','Illinois','Berlin']\n",
    "plt.bar(desired_values,height = sorted_series.head(10),edgecolor = 'black', color = 'skyblue' )\n",
    "plt.xticks(rotation=45)"
   ]
  },
  {
   "cell_type": "code",
   "execution_count": null,
   "id": "6e7f8f20",
   "metadata": {},
   "outputs": [],
   "source": []
  },
  {
   "cell_type": "markdown",
   "id": "04287419",
   "metadata": {},
   "source": [
    "## idea is that I create a column with categorical variables with different ranges( 5000>x>1000) and then colour code the barplot to find out which states contribute to the highest like count."
   ]
  },
  {
   "cell_type": "code",
   "execution_count": 27,
   "id": "86fd1dd1",
   "metadata": {},
   "outputs": [
    {
     "data": {
      "text/plain": [
       "(array([1.8775e+04, 7.0000e+00, 0.0000e+00, 0.0000e+00, 1.0000e+00,\n",
       "        0.0000e+00, 1.0000e+00, 0.0000e+00, 0.0000e+00, 1.0000e+00]),\n",
       " array([   0. ,  513.5, 1027. , 1540.5, 2054. , 2567.5, 3081. , 3594.5,\n",
       "        4108. , 4621.5, 5135. ]),\n",
       " <BarContainer object of 10 artists>)"
      ]
     },
     "execution_count": 27,
     "metadata": {},
     "output_type": "execute_result"
    },
    {
     "data": {
      "image/png": "[encoded data removed]",
      "text/plain": [
       "<Figure size 640x480 with 1 Axes>"
      ]
     },
     "metadata": {},
     "output_type": "display_data"
    }
   ],
   "source": [
    "plt.hist(df_cleaned['retweet_count'], log = True, edgecolor = 'black', color = 'skyblue')\n"
   ]
  },
  {
   "cell_type": "code",
   "execution_count": 39,
   "id": "56ff8ec6",
   "metadata": {},
   "outputs": [
    {
     "name": "stderr",
     "output_type": "stream",
     "text": [
      "C:\\Users\\User\\AppData\\Local\\Temp\\ipykernel_7580\\3068205388.py:5: SettingWithCopyWarning: \n",
      "A value is trying to be set on a copy of a slice from a DataFrame.\n",
      "Try using .loc[row_indexer,col_indexer] = value instead\n",
      "\n",
      "See the caveats in the documentation: https://pandas.pydata.org/pandas-docs/stable/user_guide/indexing.html#returning-a-view-versus-a-copy\n",
      "  df_cleaned['like_categories'] = np.select(conditions,values, default ='other')\n"
     ]
    },
    {
     "data": {
      "text/plain": [
       "818751    other\n",
       "245075    other\n",
       "Name: like_categories, dtype: object"
      ]
     },
     "execution_count": 39,
     "metadata": {},
     "output_type": "execute_result"
    }
   ],
   "source": [
    "conditions = [(df_cleaned['likes'] >= 0) & (df_cleaned['likes'] <= 5000),\n",
    "    (df_cleaned['likes'] > 5000) & (df_cleaned['likes'] <= 10000),(df_cleaned['likes'] > 10000) & (df_cleaned['likes'] <= 20000)]\n",
    "values = ['0-5000', '5000-10000','10000-20000']\n",
    "\n",
    "df_cleaned['like_categories'] = np.select(conditions,values, default ='other')\n",
    "\n",
    "\n",
    "\n"
   ]
  },
  {
   "cell_type": "code",
   "execution_count": 46,
   "id": "df0bc25c",
   "metadata": {},
   "outputs": [
    {
     "ename": "KeyError",
     "evalue": "'New York'",
     "output_type": "error",
     "traceback": [
      "\u001b[1;31m---------------------------------------------------------------------------\u001b[0m",
      "\u001b[1;31mKeyError\u001b[0m                                  Traceback (most recent call last)",
      "Cell \u001b[1;32mIn[46], line 1\u001b[0m\n\u001b[1;32m----> 1\u001b[0m sns\u001b[38;5;241m.\u001b[39mbarplot(x\u001b[38;5;241m=\u001b[39mdesired_values, y\u001b[38;5;241m=\u001b[39msorted_series\u001b[38;5;241m.\u001b[39mhead(\u001b[38;5;241m10\u001b[39m), hue\u001b[38;5;241m=\u001b[39mdf_cleaned[\u001b[38;5;124m'\u001b[39m\u001b[38;5;124mlike_categories\u001b[39m\u001b[38;5;124m'\u001b[39m], palette\u001b[38;5;241m=\u001b[39m\u001b[38;5;124m'\u001b[39m\u001b[38;5;124mviridis\u001b[39m\u001b[38;5;124m'\u001b[39m)\n",
      "File \u001b[1;32m~\\anaconda3\\Lib\\site-packages\\seaborn\\categorical.py:2755\u001b[0m, in \u001b[0;36mbarplot\u001b[1;34m(data, x, y, hue, order, hue_order, estimator, errorbar, n_boot, units, seed, orient, color, palette, saturation, width, errcolor, errwidth, capsize, dodge, ci, ax, **kwargs)\u001b[0m\n\u001b[0;32m   2752\u001b[0m \u001b[38;5;28;01mif\u001b[39;00m estimator \u001b[38;5;129;01mis\u001b[39;00m \u001b[38;5;28mlen\u001b[39m:\n\u001b[0;32m   2753\u001b[0m     estimator \u001b[38;5;241m=\u001b[39m \u001b[38;5;124m\"\u001b[39m\u001b[38;5;124msize\u001b[39m\u001b[38;5;124m\"\u001b[39m\n\u001b[1;32m-> 2755\u001b[0m plotter \u001b[38;5;241m=\u001b[39m _BarPlotter(x, y, hue, data, order, hue_order,\n\u001b[0;32m   2756\u001b[0m                       estimator, errorbar, n_boot, units, seed,\n\u001b[0;32m   2757\u001b[0m                       orient, color, palette, saturation,\n\u001b[0;32m   2758\u001b[0m                       width, errcolor, errwidth, capsize, dodge)\n\u001b[0;32m   2760\u001b[0m \u001b[38;5;28;01mif\u001b[39;00m ax \u001b[38;5;129;01mis\u001b[39;00m \u001b[38;5;28;01mNone\u001b[39;00m:\n\u001b[0;32m   2761\u001b[0m     ax \u001b[38;5;241m=\u001b[39m plt\u001b[38;5;241m.\u001b[39mgca()\n",
      "File \u001b[1;32m~\\anaconda3\\Lib\\site-packages\\seaborn\\categorical.py:1530\u001b[0m, in \u001b[0;36m_BarPlotter.__init__\u001b[1;34m(self, x, y, hue, data, order, hue_order, estimator, errorbar, n_boot, units, seed, orient, color, palette, saturation, width, errcolor, errwidth, capsize, dodge)\u001b[0m\n\u001b[0;32m   1525\u001b[0m \u001b[38;5;28;01mdef\u001b[39;00m \u001b[38;5;21m__init__\u001b[39m(\u001b[38;5;28mself\u001b[39m, x, y, hue, data, order, hue_order,\n\u001b[0;32m   1526\u001b[0m              estimator, errorbar, n_boot, units, seed,\n\u001b[0;32m   1527\u001b[0m              orient, color, palette, saturation, width,\n\u001b[0;32m   1528\u001b[0m              errcolor, errwidth, capsize, dodge):\n\u001b[0;32m   1529\u001b[0m \u001b[38;5;250m    \u001b[39m\u001b[38;5;124;03m\"\"\"Initialize the plotter.\"\"\"\u001b[39;00m\n\u001b[1;32m-> 1530\u001b[0m     \u001b[38;5;28mself\u001b[39m\u001b[38;5;241m.\u001b[39mestablish_variables(x, y, hue, data, orient,\n\u001b[0;32m   1531\u001b[0m                              order, hue_order, units)\n\u001b[0;32m   1532\u001b[0m     \u001b[38;5;28mself\u001b[39m\u001b[38;5;241m.\u001b[39mestablish_colors(color, palette, saturation)\n\u001b[0;32m   1533\u001b[0m     \u001b[38;5;28mself\u001b[39m\u001b[38;5;241m.\u001b[39mestimate_statistic(estimator, errorbar, n_boot, seed)\n",
      "File \u001b[1;32m~\\anaconda3\\Lib\\site-packages\\seaborn\\categorical.py:608\u001b[0m, in \u001b[0;36m_CategoricalPlotter.establish_variables\u001b[1;34m(self, x, y, hue, data, orient, order, hue_order, units)\u001b[0m\n\u001b[0;32m    605\u001b[0m     hue_names \u001b[38;5;241m=\u001b[39m categorical_order(hue, hue_order)\n\u001b[0;32m    607\u001b[0m     \u001b[38;5;66;03m# Group the hue data\u001b[39;00m\n\u001b[1;32m--> 608\u001b[0m     plot_hues, hue_title \u001b[38;5;241m=\u001b[39m \u001b[38;5;28mself\u001b[39m\u001b[38;5;241m.\u001b[39m_group_longform(hue, groups,\n\u001b[0;32m    609\u001b[0m                                                 group_names)\n\u001b[0;32m    611\u001b[0m \u001b[38;5;66;03m# Now handle the units for nested observations\u001b[39;00m\n\u001b[0;32m    612\u001b[0m \u001b[38;5;28;01mif\u001b[39;00m units \u001b[38;5;129;01mis\u001b[39;00m \u001b[38;5;28;01mNone\u001b[39;00m:\n",
      "File \u001b[1;32m~\\anaconda3\\Lib\\site-packages\\seaborn\\categorical.py:641\u001b[0m, in \u001b[0;36m_CategoricalPlotter._group_longform\u001b[1;34m(self, vals, grouper, order)\u001b[0m\n\u001b[0;32m    638\u001b[0m     vals \u001b[38;5;241m=\u001b[39m pd\u001b[38;5;241m.\u001b[39mSeries(vals, index\u001b[38;5;241m=\u001b[39mindex)\n\u001b[0;32m    640\u001b[0m \u001b[38;5;66;03m# Group the val data\u001b[39;00m\n\u001b[1;32m--> 641\u001b[0m grouped_vals \u001b[38;5;241m=\u001b[39m vals\u001b[38;5;241m.\u001b[39mgroupby(grouper)\n\u001b[0;32m    642\u001b[0m out_data \u001b[38;5;241m=\u001b[39m []\n\u001b[0;32m    643\u001b[0m \u001b[38;5;28;01mfor\u001b[39;00m g \u001b[38;5;129;01min\u001b[39;00m order:\n",
      "File \u001b[1;32m~\\anaconda3\\Lib\\site-packages\\pandas\\core\\series.py:2064\u001b[0m, in \u001b[0;36mSeries.groupby\u001b[1;34m(self, by, axis, level, as_index, sort, group_keys, observed, dropna)\u001b[0m\n\u001b[0;32m   2061\u001b[0m     \u001b[38;5;28;01mraise\u001b[39;00m \u001b[38;5;167;01mTypeError\u001b[39;00m(\u001b[38;5;124m\"\u001b[39m\u001b[38;5;124mas_index=False only valid with DataFrame\u001b[39m\u001b[38;5;124m\"\u001b[39m)\n\u001b[0;32m   2062\u001b[0m axis \u001b[38;5;241m=\u001b[39m \u001b[38;5;28mself\u001b[39m\u001b[38;5;241m.\u001b[39m_get_axis_number(axis)\n\u001b[1;32m-> 2064\u001b[0m \u001b[38;5;28;01mreturn\u001b[39;00m SeriesGroupBy(\n\u001b[0;32m   2065\u001b[0m     obj\u001b[38;5;241m=\u001b[39m\u001b[38;5;28mself\u001b[39m,\n\u001b[0;32m   2066\u001b[0m     keys\u001b[38;5;241m=\u001b[39mby,\n\u001b[0;32m   2067\u001b[0m     axis\u001b[38;5;241m=\u001b[39maxis,\n\u001b[0;32m   2068\u001b[0m     level\u001b[38;5;241m=\u001b[39mlevel,\n\u001b[0;32m   2069\u001b[0m     as_index\u001b[38;5;241m=\u001b[39mas_index,\n\u001b[0;32m   2070\u001b[0m     sort\u001b[38;5;241m=\u001b[39msort,\n\u001b[0;32m   2071\u001b[0m     group_keys\u001b[38;5;241m=\u001b[39mgroup_keys,\n\u001b[0;32m   2072\u001b[0m     observed\u001b[38;5;241m=\u001b[39mobserved,\n\u001b[0;32m   2073\u001b[0m     dropna\u001b[38;5;241m=\u001b[39mdropna,\n\u001b[0;32m   2074\u001b[0m )\n",
      "File \u001b[1;32m~\\anaconda3\\Lib\\site-packages\\pandas\\core\\groupby\\groupby.py:931\u001b[0m, in \u001b[0;36mGroupBy.__init__\u001b[1;34m(self, obj, keys, axis, level, grouper, exclusions, selection, as_index, sort, group_keys, observed, dropna)\u001b[0m\n\u001b[0;32m    928\u001b[0m \u001b[38;5;28mself\u001b[39m\u001b[38;5;241m.\u001b[39mdropna \u001b[38;5;241m=\u001b[39m dropna\n\u001b[0;32m    930\u001b[0m \u001b[38;5;28;01mif\u001b[39;00m grouper \u001b[38;5;129;01mis\u001b[39;00m \u001b[38;5;28;01mNone\u001b[39;00m:\n\u001b[1;32m--> 931\u001b[0m     grouper, exclusions, obj \u001b[38;5;241m=\u001b[39m get_grouper(\n\u001b[0;32m    932\u001b[0m         obj,\n\u001b[0;32m    933\u001b[0m         keys,\n\u001b[0;32m    934\u001b[0m         axis\u001b[38;5;241m=\u001b[39maxis,\n\u001b[0;32m    935\u001b[0m         level\u001b[38;5;241m=\u001b[39mlevel,\n\u001b[0;32m    936\u001b[0m         sort\u001b[38;5;241m=\u001b[39msort,\n\u001b[0;32m    937\u001b[0m         observed\u001b[38;5;241m=\u001b[39mobserved,\n\u001b[0;32m    938\u001b[0m         dropna\u001b[38;5;241m=\u001b[39m\u001b[38;5;28mself\u001b[39m\u001b[38;5;241m.\u001b[39mdropna,\n\u001b[0;32m    939\u001b[0m     )\n\u001b[0;32m    941\u001b[0m \u001b[38;5;28mself\u001b[39m\u001b[38;5;241m.\u001b[39mobj \u001b[38;5;241m=\u001b[39m obj\n\u001b[0;32m    942\u001b[0m \u001b[38;5;28mself\u001b[39m\u001b[38;5;241m.\u001b[39maxis \u001b[38;5;241m=\u001b[39m obj\u001b[38;5;241m.\u001b[39m_get_axis_number(axis)\n",
      "File \u001b[1;32m~\\anaconda3\\Lib\\site-packages\\pandas\\core\\groupby\\grouper.py:985\u001b[0m, in \u001b[0;36mget_grouper\u001b[1;34m(obj, key, axis, level, sort, observed, validate, dropna)\u001b[0m\n\u001b[0;32m    983\u001b[0m         in_axis, level, gpr \u001b[38;5;241m=\u001b[39m \u001b[38;5;28;01mFalse\u001b[39;00m, gpr, \u001b[38;5;28;01mNone\u001b[39;00m\n\u001b[0;32m    984\u001b[0m     \u001b[38;5;28;01melse\u001b[39;00m:\n\u001b[1;32m--> 985\u001b[0m         \u001b[38;5;28;01mraise\u001b[39;00m \u001b[38;5;167;01mKeyError\u001b[39;00m(gpr)\n\u001b[0;32m    986\u001b[0m \u001b[38;5;28;01melif\u001b[39;00m \u001b[38;5;28misinstance\u001b[39m(gpr, Grouper) \u001b[38;5;129;01mand\u001b[39;00m gpr\u001b[38;5;241m.\u001b[39mkey \u001b[38;5;129;01mis\u001b[39;00m \u001b[38;5;129;01mnot\u001b[39;00m \u001b[38;5;28;01mNone\u001b[39;00m:\n\u001b[0;32m    987\u001b[0m     \u001b[38;5;66;03m# Add key to exclusions\u001b[39;00m\n\u001b[0;32m    988\u001b[0m     exclusions\u001b[38;5;241m.\u001b[39madd(gpr\u001b[38;5;241m.\u001b[39mkey)\n",
      "\u001b[1;31mKeyError\u001b[0m: 'New York'"
     ]
    }
   ],
   "source": [
    "sns.barplot(x=desired_values, y=sorted_series.head(10), hue=df_cleaned['like_categories'], palette='viridis')"
   ]
  }
 ],
 "metadata": {
  "kernelspec": {
   "display_name": "Python 3 (ipykernel)",
   "language": "python",
   "name": "python3"
  },
  "language_info": {
   "codemirror_mode": {
    "name": "ipython",
    "version": 3
   },
   "file_extension": ".py",
   "mimetype": "text/x-python",
   "name": "python",
   "nbconvert_exporter": "python",
   "pygments_lexer": "ipython3",
   "version": "3.11.5"
  }
 },
 "nbformat": 4,
 "nbformat_minor": 5
}
